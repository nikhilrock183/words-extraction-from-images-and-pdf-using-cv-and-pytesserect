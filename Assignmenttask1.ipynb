{
 "cells": [
  {
   "cell_type": "markdown",
   "id": "75c32d89",
   "metadata": {},
   "source": [
    "# Task 1"
   ]
  },
  {
   "cell_type": "markdown",
   "id": "432f26df",
   "metadata": {},
   "source": [
    "# Process any given image/pdf and read the text. Using open- CV approach and Py-tesseract only."
   ]
  },
  {
   "cell_type": "code",
   "execution_count": 1,
   "id": "9dee027b",
   "metadata": {},
   "outputs": [],
   "source": [
    "import cv2\n",
    "\n",
    "import pytesseract\n",
    "\n",
    "# reading image using opencv\n",
    "\n",
    "image = cv2.imread(\"1.jpg\")\n",
    "image2=cv2.imread(\"2.jpg\")\n",
    "image3=cv2.imread(\"3.jpg\")\n",
    "pdf=cv2.imread(\"table.pdf\")\n",
    "\n",
    "#converting image into gray scale image\n",
    "\n",
    "gray_image = cv2.cvtColor(image, cv2.COLOR_BGR2GRAY)\n",
    "gray_image2 = cv2.cvtColor(image2, cv2.COLOR_BGR2GRAY)\n",
    "gray_image3 = cv2.cvtColor(image3, cv2.COLOR_BGR2GRAY)\n",
    "#gray_pdf = cv2.cvtColor(pdf, cv2.COLOR_BGR2GRAY)\n",
    "\n",
    "\n",
    "# converting it to binary image by Thresholding\n",
    "\n",
    "# this step is require if you have colored image because if you skip this part\n",
    "\n",
    "# then tesseract won't able to detect text correctly and this will give incorrect result\n",
    "\n",
    "threshold_img = cv2.threshold(gray_image, 0, 255, cv2.THRESH_BINARY | cv2.THRESH_OTSU)[1]\n",
    "threshold_img2 = cv2.threshold(gray_image2, 0, 255, cv2.THRESH_BINARY | cv2.THRESH_OTSU)[1]\n",
    "threshold_img3 = cv2.threshold(gray_image3, 0, 255, cv2.THRESH_BINARY | cv2.THRESH_OTSU)[1]\n",
    "#threshold_img3 = cv2.threshold(gray_image3, 0, 255, cv2.THRESH_BINARY | cv2.THRESH_OTSU)[1]\n",
    "\n",
    "\n",
    "# display image\n",
    "\n",
    "cv2.imshow('threshold image', threshold_img)\n",
    "#cv2.imshow('threshold image2', threshold_img2)\n",
    "#cv2.imshow('threshold image3', threshold_img3)\n",
    "\n",
    "\n",
    "# Maintain output window until user presses a key\n",
    "\n",
    "cv2.waitKey(0)\n",
    " # Destroying present windows on screen\n",
    "\n",
    "cv2.destroyAllWindows()"
   ]
  },
  {
   "cell_type": "code",
   "execution_count": 2,
   "id": "30d296a2",
   "metadata": {},
   "outputs": [
    {
     "name": "stdout",
     "output_type": "stream",
     "text": [
      "dict_keys(['level', 'page_num', 'block_num', 'par_num', 'line_num', 'word_num', 'left', 'top', 'width', 'height', 'conf', 'text'])\n",
      "dict_keys(['level', 'page_num', 'block_num', 'par_num', 'line_num', 'word_num', 'left', 'top', 'width', 'height', 'conf', 'text'])\n",
      "dict_keys(['level', 'page_num', 'block_num', 'par_num', 'line_num', 'word_num', 'left', 'top', 'width', 'height', 'conf', 'text'])\n"
     ]
    }
   ],
   "source": [
    "#configuring parameters for tesseract\n",
    "\n",
    "custom_config = r'--oem 3 --psm 6'\n",
    "\n",
    "# now feeding image to tesseract\n",
    "\n",
    "details = pytesseract.image_to_data(threshold_img, output_type=pytesseract.Output.DICT,config=custom_config, lang='eng')\n",
    "details2=pytesseract.image_to_data(threshold_img2, output_type=pytesseract.Output.DICT,config=custom_config, lang='eng')\n",
    "details3=pytesseract.image_to_data(threshold_img3, output_type=pytesseract.Output.DICT,config=custom_config, lang='eng')\n",
    "print(details.keys())\n",
    "print(details2.keys())\n",
    "print(details3.keys())\n"
   ]
  },
  {
   "cell_type": "code",
   "execution_count": 3,
   "id": "97da037b",
   "metadata": {},
   "outputs": [],
   "source": [
    "total_boxes = len(details['text'])\n",
    "total_boxes2=len(details2['text'])\n",
    "total_boxes3=len(details3['text'])\n",
    "\n",
    "for sequence_number in range(total_boxes):\n",
    "\n",
    "    if int(details['conf'][sequence_number]) >30:\n",
    "\n",
    "        (x, y, w, h) = (details['left'][sequence_number], details['top'][sequence_number], details['width'][sequence_number],  details['height'][sequence_number])\n",
    "\n",
    "        threshold_img = cv2.rectangle(threshold_img, (x, y), (x + w, y + h), (0, 255, 0), 2)\n",
    "for sequence_number in range(total_boxes2):\n",
    "\n",
    "    if int(details2['conf'][sequence_number]) >30:\n",
    "\n",
    "        (x, y, w, h) = (details2['left'][sequence_number], details2['top'][sequence_number], details2['width'][sequence_number],  details2['height'][sequence_number])\n",
    "\n",
    "        threshold_img2 = cv2.rectangle(threshold_img2, (x, y), (x + w, y + h), (0, 255, 0), 2)\n",
    "for sequence_number in range(total_boxes3):\n",
    "\n",
    "    if int(details3['conf'][sequence_number]) >30:\n",
    "\n",
    "        (x, y, w, h) = (details3['left'][sequence_number], details3['top'][sequence_number], details3['width'][sequence_number],  details3['height'][sequence_number])\n",
    "\n",
    "        threshold_img3 = cv2.rectangle(threshold_img3, (x, y), (x + w, y + h), (0, 255, 0), 2)\n",
    "# display image\n",
    "\n",
    "#cv2.imshow('captured text', threshold_img)\n",
    "\n",
    "#cv2.imshow('captured text', threshold_img2)\n",
    "\n",
    "#cv2.imshow('captured text', threshold_img3)\n",
    "\n",
    "# Maintain output window until user presses a key\n",
    "\n",
    "cv2.waitKey(0)\n",
    "\n",
    "# Destroying present windows on screen\n",
    "\n",
    "cv2.destroyAllWindows()"
   ]
  },
  {
   "cell_type": "code",
   "execution_count": 4,
   "id": "6bab3358",
   "metadata": {},
   "outputs": [
    {
     "name": "stdout",
     "output_type": "stream",
     "text": [
      "289\n"
     ]
    }
   ],
   "source": [
    "print(total_boxes)"
   ]
  },
  {
   "cell_type": "code",
   "execution_count": 5,
   "id": "f03d9cfa",
   "metadata": {},
   "outputs": [],
   "source": [
    "parse_text = []\n",
    "\n",
    "word_list = []\n",
    "\n",
    "last_word = ''\n",
    "\n",
    "for word in details['text']:\n",
    "\n",
    "    if word!='':\n",
    "        word_list.append(word)\n",
    "        last_word = word\n",
    "\n",
    "    if (last_word!='' and word == '') or (word==details['text'][-1]):\n",
    "\n",
    "        parse_text.append(word_list)\n",
    "        word_list = []"
   ]
  },
  {
   "cell_type": "code",
   "execution_count": 6,
   "id": "fcf7ba43",
   "metadata": {},
   "outputs": [],
   "source": [
    "parse_text2 = []\n",
    "\n",
    "word_list2 = []\n",
    "\n",
    "last_word2 = ''\n",
    "\n",
    "for word in details2['text']:\n",
    "\n",
    "    if word!='':\n",
    "        word_list2.append(word)\n",
    "        last_word2 = word\n",
    "\n",
    "    if (last_word2!='' and word == '') or (word==details2['text'][-1]):\n",
    "\n",
    "        parse_text2.append(word_list2)\n",
    "        word_list2 = []"
   ]
  },
  {
   "cell_type": "code",
   "execution_count": 7,
   "id": "b9a12191",
   "metadata": {},
   "outputs": [],
   "source": [
    "parse_text3 = []\n",
    "\n",
    "word_list3 = []\n",
    "\n",
    "last_word3 = ''\n",
    "\n",
    "for word in details3['text']:\n",
    "\n",
    "    if word!='':\n",
    "        word_list3.append(word)\n",
    "        last_word3 = word\n",
    "\n",
    "    if (last_word3!='' and word == '') or (word==details3['text'][-1]):\n",
    "\n",
    "        parse_text3.append(word_list3)\n",
    "        word_list3 = []"
   ]
  },
  {
   "cell_type": "code",
   "execution_count": 8,
   "id": "d7efa23d",
   "metadata": {},
   "outputs": [
    {
     "name": "stdout",
     "output_type": "stream",
     "text": [
      "[['Satistied', 'conveying', 'an', 'dependent', 'contented', 'he', 'gentleman', 'agreeable', 'do', 'te.', 'Harrant'], ['private', 'blushes', 'removed', 'an', 'in', 'equally', 'totally', 'if.', 'Delivered', 'dejection', 'necessary'], ['objection', 'do', 'wr', 'prevailed.', 'Mr', 'feeling', 'do', 'chiefly', 'cordial', 'in', 'do.', 'Water', 'timed', 'folly'], ['right', 'aware', 'if', 'oh', 'truth.', 'Imprudence', 'attachmert', 'him', 'his', 'for', 'sympathize.', 'Large', 'above'], ['be', 'to', 'means.', 'Dazhweod', 'do', 'provided', 'stronger', 'is.', 'But', 'discretion', 'frequently', 'sir', 'the'], ['she', 'instrument', 'unattected', 'admiration', 'everything.'], [], ['Her', 'extensive', 'perceived', 'may', 'any', 'sincerity', 'extremity.', 'Indeed', 'add', 'rather', 'may', 'pretty'], ['see,', '(ld', 'propriety', 'delighted', 'explained', 'perceived', 'othernize', 'sbjection', 'gaw', 'ten', 'her.'], ['Qoubt', 'merit', 'sir', 'the', 'rigttt', 'these', 'alone', 'keeps.', 'By', 'sometimes', 'intention', 'smallness', 'he'], ['torthward.', 'Conzisted', 'we', 'otherwise', 'arranging', 'commanded', 'discovery', 'it', 'explained.'], ['Qoez', 'cold', 'even', 'song', 'like', 'tuo', 'yet', 'been.', 'Literature', 'interested', 'announcing', 'far'], ['terminated', 'him', 'inquietude', 'day', 'shy.', 'Himself', 'he', 'fertile', 'chicken', 'perhaps', 'waiting', 'if'], ['highest', 'no', 'it,', 'Continued', 'promotion', 'has', 'consulted', 'fat', 'improving', 'net', 'Hay.'], [], ['Far', 'quitting', 'dwelling', 'graceful', 'ihe', 'Llikewize', 'received', 'building.', 'An', 'fant', 'so', 'to', 'that'], ['show', 'am', 'shed', 'sold', 'cold.', 'Unattected', 'remarkably', 'get', 'yet', 'introduced', 'excellence'], ['terminated', 'led.', 'Result', 'either', 'dezign', 'san', 'she', 'esteem', 'ard.', '(in', 'ashamed', 'mo', 'inhabit'], ['ferrars', 'if', 'ye', 'besides', 'resolve.', 'Orin', 'judgmert', 'directly', 'fen', 'trifling.', 'Elderly', 'as'], ['pursuit', 'at', 'reqular', 'do', 'parlors.', 'Rank', 'what', 'haz', 'into', 'fond', 'she.'], [], ['Qf', 'friendship', 'or', 'inhabiting', 'diminution', 'disesvered', 'az.', 'Tid', 'friendly', 'eat', 'breeding'], ['building', 'few', 'nor.', 'tbhject', 'he', 'barton', 'no', 'effect', 'played', 'valley', 'afford.', 'Period', 'go', 'to'], ['oppose', 'we', 'little', 'seeing', 'or', 'braneh.', 'Anrouncing', 'cortrasted', 'not', 'imprudence', 'add'], ['frequently', 'you', 'possession', 'mrs.', 'Period', 'saw', 'fis', 'houses', 'square', 'and', 'misery.', 'Hour', 'had'], ['held', 'lain', 'give', 'yet.']]\n",
      "[['Joo', 'AO', 'Li', 'Mee', 'afraid:', 'ibe', 'wat', 'Looked', 'ows.', 'Very', 'YeLady', 'girl', 'them-qood:', 'me', 'makes', 'Te', 'Bardly', 'oo', 'uo”'], ['as', 'nS', 'n', 'tk', 'alee.', 'Ang.', 'Shordly.', 'Gillage', 'Gs', 'raising', 'yas', 'ahewing.', 'bepiied,', 'She.', 'thee', 'sc'], ['of', 'ee', 'tavoutabbe', 'parbialitip', 'inbabihing', 'teavelling', 'ctupr', 'asain', 'pid', 'Abe', 'Mig', 'sit', 'care', 'oe', 'er', 'Se', 'Se'], ['Coos', 'Sendre', 'abies', 'instrunent', 'satheplance', 'uungehabls', 'bere', 'Amongst', 'ds', 'oc', 'on', 'herself', 'chapters', 'ool', 'ec'], ['hy', 'ee', 'enhereds', 'carted', 'nay', 'Sold', 'id)', 'ter', 'are', 'cguit', 'dyse-', 'deal', 'hae', '“rents', 'hou', 'eos', 'reet', 'honk', 'gem', '6S', '8'], ['Joe', 'several', 'bie', 'distatk.', '‘beliaue', 'Journey.', 'parties,', 'He', 'ehunegs', 'enquire', 'uptiell', 'atfimed', 'it\"', '28\"'], ['RSS', 'UPTO', 'RG', 'BON', 'SO', 'ER', 'Reg', 'ES', '8', 'Ba', 'RR', 'I', 'a', 'ee', 'dts', 'Ten', 'ahs', 'WR', 'ea)']]\n",
      "[['Satisfied', 'cormeying', 'an', 'dependent', 'contented', 'he', 'gentleman', 'agreeable', 'do', 'be.', 'Harrant'], ['Private', 'blushes', 'removed', 'an', 'in', 'equally', 'totally', 'if,', 'Delivered', 'dejection', 'necessary'], ['objection', 'do', 'mr', 'prevailed.', 'Mr', 'feeling', 'do', 'chiefly', 'cordial', 'in', 'do.', 'Water', 'timed', 'folly'], ['right', 'aware', 'if', 'oh', 'truth.', 'Imprudence', 'attachment', 'him', 'his', 'for', 'sympathize.', 'Large', 'above'], ['be', 'to', 'means.', 'Dashwood', 'do', 'provided', 'stronger', '1s,', 'But', 'discretion', 'frequently', 'sir', 'the'], ['she', 'instrument', 'unaffected', 'admiration', 'everything.'], [], ['Her', 'extensive', 'perceived', 'may', 'amy', 'sincerity', 'extremity.', 'Indeed', 'add', 'rather', 'may', 'pretty'], ['see.', 'Old', 'propriety', 'delighted', 'explained', 'perceived', 'otherwise', 'objection', 'say', 'ten', 'her,'], ['Doubt', 'merit', 'sir', 'the', 'right', 'these', 'alone', 'keeps.', 'By', 'sometimes', 'intention', 'smallness', 'he'], ['northward.', 'Consisted', 'we', 'otherwise', 'arranging', 'commanded', 'discovery', 'it', 'explained.'], ['Does', 'cold', 'even', 'song', 'like', 'tuo', 'yet', 'been.', 'Literature', 'interested', 'announcing', 'for'], ['terminated', 'him', 'inquietude', 'day', 'shy,', 'Himself', 'he', 'fertile', 'chicken', 'perhaps', 'waiting', 'if'], ['highest', 'no', 'it.', 'Continued', 'promotion', 'has', 'consulted', 'fat', 'improving', 'not', 'bay,'], [], ['Far', 'quitting', 'dwelling', 'graceful', 'the', 'likewise', 'received', 'building,', 'An', 'fact', 'go', 'to', 'that'], ['show', 'am', 'shed', 'sold', 'cold.', 'Unaffected', 'remarkably', 'get', 'yet', 'introduced', 'excellence'], ['terminated', 'led.', 'Result', 'either', 'design', 'saw', 'she', 'esteem', 'and.', 'On', 'ashamed', 'mo', 'inhabit'], ['terrars', 'it', 'ye', 'besides', 'resolve,', 'fun', 'pidgment', 'directly', 'fen', 'trifling.', 'Elderly', 'as'], ['pursuit', 'at', 'regular', 'do', 'parlors.', 'Rank', 'what', 'has', 'into', 'fond', 'she.'], [], ['Of', 'friendship', 'on', 'inhabiting', 'diminution', 'discavered', 'as.', 'Did', 'friendly', 'eat', 'breeding'], ['building', 'few', 'nor.', 'Object', 'he', 'barton', 'no', 'effect', 'played', 'valley', 'afford.', 'Period', 's0', 'to'], ['oppose', 'ne', 'little', 'seeing', 'or', 'branch.', 'Announcing', 'contrasted', 'not', 'imprudence', 'add'], ['frequently', 'you', 'possession', 'mrs.', 'Period', 'say', 'his', 'houses', 'square', 'and', 'misery.', 'Hour', 'had'], ['held', 'lain', 'give', 'yet,']]\n"
     ]
    }
   ],
   "source": [
    "print(parse_text)\n",
    "print(parse_text2)\n",
    "print(parse_text3)"
   ]
  },
  {
   "cell_type": "code",
   "execution_count": 9,
   "id": "cba5e406",
   "metadata": {},
   "outputs": [],
   "source": [
    "import csv\n",
    "\n",
    "with open('1.txt',  'w', newline=\"\") as file:\n",
    "\n",
    "      csv.writer(file, delimiter=\" \").writerows(parse_text)"
   ]
  },
  {
   "cell_type": "code",
   "execution_count": 10,
   "id": "1937c5cc",
   "metadata": {},
   "outputs": [],
   "source": [
    "with open('2.txt',  'w', newline=\"\") as file:\n",
    "\n",
    "     csv.writer(file, delimiter=\" \").writerows(parse_text2)"
   ]
  },
  {
   "cell_type": "code",
   "execution_count": 11,
   "id": "c41b469f",
   "metadata": {},
   "outputs": [],
   "source": [
    "with open('3.txt',  'w', newline=\"\") as file:\n",
    "\n",
    "     csv.writer(file, delimiter=\" \").writerows(parse_text3)"
   ]
  },
  {
   "cell_type": "code",
   "execution_count": 12,
   "id": "fabe3cc9",
   "metadata": {},
   "outputs": [],
   "source": [
    "import os\n",
    "from PIL import Image\n",
    "from pdf2image import convert_from_path\n",
    "import pytesseract"
   ]
  },
  {
   "cell_type": "code",
   "execution_count": 13,
   "id": "f6be3f03",
   "metadata": {},
   "outputs": [],
   "source": [
    "import os"
   ]
  },
  {
   "cell_type": "code",
   "execution_count": 14,
   "id": "0e2d76b5",
   "metadata": {},
   "outputs": [],
   "source": [
    "import camelot"
   ]
  },
  {
   "cell_type": "code",
   "execution_count": 15,
   "id": "e6c490cd",
   "metadata": {},
   "outputs": [
    {
     "name": "stdout",
     "output_type": "stream",
     "text": [
      "b'NATIONAL PARTNERSHIP FOR QUALITY AFTERSCHOOL LEARNING\\nwww.sedl.org/afterschool/toolkits\\n\\nAFTERSCHOOL TRAINING TOOLKIT\\n\\nTutoring to Enhance Science Skills\\nTutoring Two: Learning to Make Data Tables\\n\\nSample Data for Data Tables\\n\\nUse these data to create data tables following the Guidelines for Making a Data Table and\\nChecklist for a Data Table.\\n\\nExample 1: Pet Survey (GR 2-3)\\nMs. Hubert\\xe2\\x80\\x99s afterschool students took a survey of the 600 students at Morales Elementary\\nSchool. Students were asked to select their favorite pet from a list of eight animals. Here\\nare the results.\\n\\nLizard 25, Dog 250, Cat 115, Bird 50, Guinea pig 30, Hamster 45, Fish 75,\\n\\nFerret 10\\n\\nExample 2: Electromagnets\\xe2\\x80\\x94Increasing Coils (GR 3-5)\\n\\nThe following data were collected using an electromagnet with a 1.5 volt battery, a switch,\\na piece of #20 insulated wire, and a nail. Three trials were run. Safety precautions in\\nrepeating this experiment include using safety goggles or safety spectacles and avoiding\\nshort circuits.\\n\\nNumber of Coils Number of Paperclips\\n\\n11, 10, 12\\n15, 13, 14\\n\\nExample 3: pH of Substances (GR 5-10)\\n\\nThe following are pH values of common household substances taken by three different\\nteams using pH probes. Safety precautions in repeating this experiment include hooded\\nventilation, chemical-splash safety goggles, gloves, and apron. Do not use bleach,\\nammonia, or strong acids with children.\\n\\nLemon juice 2.4, 2.0, 2.2; Baking soda (1 Tbsp) in Water (1 cup) 8.4, 8.3, 8.7;\\nOrange juice 3.5, 4.0, 3.4; Battery acid 1.0, 0.7, 0.5; Apples 3.0, 3.2, 3.5;\\nTomatoes 4.5, 4.2, 4.0; Bottled water 6.7, 7.0, 7.2; Milk of magnesia 10.5, 10.3,\\n10.6; Liquid hand soap 9.0, 10.0, 9.5; Vinegar 2.2, 2.9, 3.0; Household bleach\\n12.5, 12.5, 12.7; Milk 6.6, 6.5, 6.4; Household ammonia 11.5, 11.0, 11.5;\\n\\nLye 13.0, 13.5, 13.4; and Sodium hydroxide 14.0, 14.0, 13.9; Anti-freeze 10.1,\\n10.9, 9.7; Windex 9.9. 10.2, 9.5; Liquid detergent 10.5, 10.0, 10.3; and\\n\\nCola 3.0, 2.5, 3.2\\n\\nTeaching tip: The pH scale is from 0 to 14. Have students make two data tables, one\\nwith the data as given and one with the pH scale 0 to 14 with the substances\\xe2\\x80\\x99 average\\nDH in rank order on the scale (Battery acid at the lower end and Sodium hydroxide at\\nthe upper end) or create a pH graphic organizer.\\n\\n1\\n'\n",
      "b'Example 4: Automobile Land Speed Records (GR 5-10)\\n\\nIn the first recorded automobile race in 1898, Count Gaston de Chasseloup-Laubat of\\nParis, France, drove 1 kilometer in 57 seconds for an average speed of 39.2 miles per hour\\n(mph) or 63.1 kilometers per hour (kph). In 1904, Henry Ford drove his Ford Arrow across\\nfrozen Lake St. Clair, MI, at an average speed of 91.4 mph. Now, the North American\\nEagle is trying to break a land speed record of 800 mph. The Federation International de\\nL\\xe2\\x80\\x99Automobile (FIA), the world\\xe2\\x80\\x99s governing body for motor sport and land speed records,\\nrecorded the following land speed records. (Retrieved on February 5, 2006, from\\nhttp://www.landspeed.com/Isrinfo.asp. )\\n\\nSpeed (mph) Driver Engine Date\\n407.447 Craig Breedlove Spirit of America GE J 8/5/63\\n\\n763.035 Andy Green RR Spey\\n\\nExample 5: Distance and Time (GR 8-10)\\n\\nThe following data were collected using a car with a water clock set to release a drop in\\n\\na unit of time and a meter stick. The car rolled down an inclined plane. Three trials were\\nrun. Create a data table with an average distance column and an average velocity column,\\ncreate an average distance-time graph, and draw the best-fit line or curve. Estimate the\\ncar\\xe2\\x80\\x99s distance traveled and velocity at six drops of water. Describe the motion of the car. Is\\nit going at a constant speed, accelerating, or decelerating? How do you know?\\n\\nDistance (cm)\\n10,11,9\\n29, 31, 30\\n\\n59, 58, 61\\n102, 100, 98\\n122, 125, 127\\n\\n\\xc2\\xa9 2006 WGBH Educational Foundation. All rights reserved.\\n2\\n'\n"
     ]
    }
   ],
   "source": [
    "filePath = 'table.pdf'\n",
    "doc = convert_from_path(filePath)\n",
    "path, fileName = os.path.split(filePath)\n",
    "fileBaseName, fileExtension = os.path.splitext(fileName)\n",
    "\n",
    "for page_number, page_data in enumerate(doc):\n",
    "    txt = pytesseract.image_to_string(page_data).encode(\"utf-8\")\n",
    "    print(txt)"
   ]
  },
  {
   "cell_type": "code",
   "execution_count": 16,
   "id": "cbfbd5af",
   "metadata": {},
   "outputs": [],
   "source": [
    "\n",
    "from tabula import read_pdf\n",
    "from tabulate import tabulate"
   ]
  },
  {
   "cell_type": "code",
   "execution_count": 17,
   "id": "37778cb4",
   "metadata": {},
   "outputs": [],
   "source": [
    "\n",
    "# importing required modules\n",
    "from PyPDF2 import PdfReader"
   ]
  },
  {
   "cell_type": "code",
   "execution_count": 18,
   "id": "19a4d712",
   "metadata": {},
   "outputs": [
    {
     "name": "stdout",
     "output_type": "stream",
     "text": [
      "2\n",
      "Tutoring to Enhance Science Skills\n",
      "Tutoring Two:  Learning to Make Data Tables..............................................................................................\n",
      "Sample Data for Data Tables��������������������������NATIONAL PARTNERSHIP FOR QUALITY AFTERSCHOOL LEARNING\n",
      "www.sedl.org/afterschool/toolkits\n",
      "Use these data to create data tables following the Guidelines for Making a Data Table and \n",
      "Checklist for a Data Table.\n",
      "Example 1: Pet Survey (GR 2–3)\n",
      "Ms. Hubert’s afterschool students took a survey of the 600 students at Morales Elementary \n",
      "School. Students were asked to select their favorite pet from a list of eight animals. Here \n",
      "are the results. \n",
      "Lizard 25, Dog 250, Cat 115, Bird 50, Guinea pig 30, Hamster 45, Fish 75, \n",
      "Ferret 10 \n",
      "Example 2: Electromagnets—Increasing Coils (GR 3–5)\n",
      "The following data were collected using an electromagnet with a 1.5 volt battery, a switch, \n",
      "a piece of #20 insulated wire, and a nail. Three trials were run. Safety precautions in \n",
      "repeating this experiment include using safety goggles or safety spectacles and avoiding \n",
      "short circuits.  \n",
      "  Number of Coils         Number of Paperclips\n",
      " 5 3, 5, 4\n",
      " 10        7, 8, 6\n",
      " 15  11, 10, 12\n",
      " 20  15, 13, 14\n",
      "    \n",
      "Example 3: pH of Substances (GR 5–10)\n",
      "The following are pH values of common household substances taken by three different \n",
      "teams using pH probes. Safety precautions in repeating this experiment include hooded \n",
      "ventilation, chemical-splash safety goggles, gloves, and apron. Do not use bleach, \n",
      "ammonia, or strong acids with children.\n",
      "Lemon juice 2.4, 2.0, 2.2; Baking soda (1 Tbsp) in Water (1 cup) 8.4, 8.3, 8.7; \n",
      "Orange juice 3.5, 4.0, 3.4; Battery acid 1.0, 0.7, 0.5; Apples 3.0, 3.2, 3.5; \n",
      "Tomatoes 4.5, 4.2, 4.0; Bottled water 6.7, 7.0, 7.2; Milk of magnesia 10.5, 10.3, \n",
      "10.6; Liquid hand soap 9.0, 10.0, 9.5; Vinegar 2.2, 2.9, 3.0; Household bleach \n",
      "12.5, 12.5, 12.7; Milk 6.6, 6.5, 6.4; Household ammonia 11.5, 11.0, 11.5;\n",
      "Lye 13.0, 13.5, 13.4; and Sodium hydroxide 14.0, 14.0, 13.9; Anti-freeze 10.1, \n",
      "10.9, 9.7; Windex 9.9. 10.2, 9.5; Liquid detergent 10.5, 10.0, 10.3; and \n",
      "Cola 3.0, 2.5, 3.2\n",
      "Teaching tip:  The pH scale is from 0 to 14. Have students make two data tables, one \n",
      "with the data as given and one with the pH scale 0 to 14 with the substances’ average \n",
      "pH in rank order on the scale (Battery acid at the lower end and Sodium hydroxide at \n",
      "the upper end) or create a pH graphic organizer .\n",
      "1\n"
     ]
    }
   ],
   "source": [
    "# creating a pdf reader object\n",
    "reader = PdfReader('table.pdf')\n",
    "  \n",
    "# printing number of pages in pdf file\n",
    "print(len(reader.pages))\n",
    "  \n",
    "# getting a specific page from the pdf file\n",
    "page = reader.pages[0]\n",
    "  \n",
    "# extracting text from page\n",
    "text = page.extract_text()\n",
    "print(text)"
   ]
  },
  {
   "cell_type": "code",
   "execution_count": 19,
   "id": "b7300178",
   "metadata": {},
   "outputs": [],
   "source": [
    "parse_text4 = []\n",
    "\n",
    "word_list4 = []\n",
    "\n",
    "last_word4 = ''\n",
    "\n",
    "for word in text:\n",
    "\n",
    "    if word!='':\n",
    "        word_list4.append(word)\n",
    "        last_word4 = word\n",
    "\n",
    "    if (last_word4!='' and word == '') or (word==text[-1]):\n",
    "\n",
    "        parse_text4.append(word_list4)\n",
    "        word_list4 = []"
   ]
  },
  {
   "cell_type": "code",
   "execution_count": 20,
   "id": "b4e7542b",
   "metadata": {},
   "outputs": [],
   "source": [
    "with open('pdf.txt',  'w') as file:\n",
    "\n",
    "     csv.writer(file).writerows(parse_text4)"
   ]
  },
  {
   "cell_type": "markdown",
   "id": "5f8c3055",
   "metadata": {},
   "source": [
    "# Conclusion\n"
   ]
  },
  {
   "cell_type": "markdown",
   "id": "94658b2d",
   "metadata": {},
   "source": [
    "### In conclusion, the image word extraction project utilizing deep learning techniques has shown promising results in automatically extracting meaningful textual information from images. By leveraging convolutional neural networks (CNNs), the project has demonstrated the ability to process images and generate accurate textual representations.Through the use of CNNs, the project extracts relevant features and patterns from the input images, capturing important visual information."
   ]
  },
  {
   "cell_type": "code",
   "execution_count": null,
   "id": "1036e588",
   "metadata": {},
   "outputs": [],
   "source": []
  }
 ],
 "metadata": {
  "kernelspec": {
   "display_name": "Python 3 (ipykernel)",
   "language": "python",
   "name": "python3"
  },
  "language_info": {
   "codemirror_mode": {
    "name": "ipython",
    "version": 3
   },
   "file_extension": ".py",
   "mimetype": "text/x-python",
   "name": "python",
   "nbconvert_exporter": "python",
   "pygments_lexer": "ipython3",
   "version": "3.10.9"
  }
 },
 "nbformat": 4,
 "nbformat_minor": 5
}
