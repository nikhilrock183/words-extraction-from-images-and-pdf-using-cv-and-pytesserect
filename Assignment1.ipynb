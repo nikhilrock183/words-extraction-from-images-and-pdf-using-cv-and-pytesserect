{
 "cells": [
  {
   "cell_type": "markdown",
   "id": "1ebd4dc2",
   "metadata": {},
   "source": [
    "# Task 1"
   ]
  },
  {
   "cell_type": "markdown",
   "id": "17b9fdcb",
   "metadata": {},
   "source": [
    "# Process any given image/pdf and read the text. Using open- CV approach and Py-tesseract only."
   ]
  },
  {
   "cell_type": "code",
   "execution_count": null,
   "id": "9dee027b",
   "metadata": {},
   "outputs": [],
   "source": [
    "import cv2\n",
    "\n",
    "import pytesseract\n",
    "\n",
    "# reading image using opencv\n",
    "\n",
    "image = cv2.imread(\"1.jpg\")\n",
    "image2=cv2.imread(\"2.jpg\")\n",
    "image3=cv2.imread(\"3.jpg\")\n",
    "pdf=cv2.imread(\"table.pdf\")\n",
    "\n",
    "#converting image into gray scale image\n",
    "\n",
    "gray_image = cv2.cvtColor(image, cv2.COLOR_BGR2GRAY)\n",
    "gray_image2 = cv2.cvtColor(image2, cv2.COLOR_BGR2GRAY)\n",
    "gray_image3 = cv2.cvtColor(image3, cv2.COLOR_BGR2GRAY)\n",
    "#gray_pdf = cv2.cvtColor(pdf, cv2.COLOR_BGR2GRAY)\n",
    "\n",
    "\n",
    "# converting it to binary image by Thresholding\n",
    "\n",
    "# this step is require if you have colored image because if you skip this part\n",
    "\n",
    "# then tesseract won't able to detect text correctly and this will give incorrect result\n",
    "\n",
    "threshold_img = cv2.threshold(gray_image, 0, 255, cv2.THRESH_BINARY | cv2.THRESH_OTSU)[1]\n",
    "threshold_img2 = cv2.threshold(gray_image2, 0, 255, cv2.THRESH_BINARY | cv2.THRESH_OTSU)[1]\n",
    "threshold_img3 = cv2.threshold(gray_image3, 0, 255, cv2.THRESH_BINARY | cv2.THRESH_OTSU)[1]\n",
    "#threshold_img3 = cv2.threshold(gray_image3, 0, 255, cv2.THRESH_BINARY | cv2.THRESH_OTSU)[1]\n",
    "\n",
    "\n",
    "# display image\n",
    "\n",
    "cv2.imshow('threshold image', threshold_img)\n",
    "#cv2.imshow('threshold image2', threshold_img2)\n",
    "#cv2.imshow('threshold image3', threshold_img3)\n",
    "\n",
    "\n",
    "# Maintain output window until user presses a key\n",
    "\n",
    "cv2.waitKey(0)\n",
    " # Destroying present windows on screen\n",
    "\n",
    "cv2.destroyAllWindows()"
   ]
  },
  {
   "cell_type": "code",
   "execution_count": null,
   "id": "30d296a2",
   "metadata": {},
   "outputs": [],
   "source": [
    "#configuring parameters for tesseract\n",
    "\n",
    "custom_config = r'--oem 3 --psm 6'\n",
    "\n",
    "# now feeding image to tesseract\n",
    "\n",
    "details = pytesseract.image_to_data(threshold_img, output_type=pytesseract.Output.DICT,config=custom_config, lang='eng')\n",
    "details2=pytesseract.image_to_data(threshold_img2, output_type=pytesseract.Output.DICT,config=custom_config, lang='eng')\n",
    "details3=pytesseract.image_to_data(threshold_img3, output_type=pytesseract.Output.DICT,config=custom_config, lang='eng')\n",
    "print(details.keys())\n",
    "print(details2.keys())\n",
    "print(details3.keys())\n"
   ]
  },
  {
   "cell_type": "code",
   "execution_count": null,
   "id": "97da037b",
   "metadata": {},
   "outputs": [],
   "source": [
    "total_boxes = len(details['text'])\n",
    "total_boxes2=len(details2['text'])\n",
    "total_boxes3=len(details3['text'])\n",
    "\n",
    "for sequence_number in range(total_boxes):\n",
    "\n",
    "    if int(details['conf'][sequence_number]) >30:\n",
    "\n",
    "        (x, y, w, h) = (details['left'][sequence_number], details['top'][sequence_number], details['width'][sequence_number],  details['height'][sequence_number])\n",
    "\n",
    "        threshold_img = cv2.rectangle(threshold_img, (x, y), (x + w, y + h), (0, 255, 0), 2)\n",
    "for sequence_number in range(total_boxes2):\n",
    "\n",
    "    if int(details2['conf'][sequence_number]) >30:\n",
    "\n",
    "        (x, y, w, h) = (details2['left'][sequence_number], details2['top'][sequence_number], details2['width'][sequence_number],  details2['height'][sequence_number])\n",
    "\n",
    "        threshold_img2 = cv2.rectangle(threshold_img2, (x, y), (x + w, y + h), (0, 255, 0), 2)\n",
    "for sequence_number in range(total_boxes3):\n",
    "\n",
    "    if int(details3['conf'][sequence_number]) >30:\n",
    "\n",
    "        (x, y, w, h) = (details3['left'][sequence_number], details3['top'][sequence_number], details3['width'][sequence_number],  details3['height'][sequence_number])\n",
    "\n",
    "        threshold_img3 = cv2.rectangle(threshold_img3, (x, y), (x + w, y + h), (0, 255, 0), 2)\n",
    "# display image\n",
    "\n",
    "#cv2.imshow('captured text', threshold_img)\n",
    "\n",
    "#cv2.imshow('captured text', threshold_img2)\n",
    "\n",
    "#cv2.imshow('captured text', threshold_img3)\n",
    "\n",
    "# Maintain output window until user presses a key\n",
    "\n",
    "cv2.waitKey(0)\n",
    "\n",
    "# Destroying present windows on screen\n",
    "\n",
    "cv2.destroyAllWindows()"
   ]
  },
  {
   "cell_type": "code",
   "execution_count": null,
   "id": "6bab3358",
   "metadata": {},
   "outputs": [],
   "source": [
    "print(total_boxes)"
   ]
  },
  {
   "cell_type": "code",
   "execution_count": null,
   "id": "f03d9cfa",
   "metadata": {},
   "outputs": [],
   "source": [
    "parse_text = []\n",
    "\n",
    "word_list = []\n",
    "\n",
    "last_word = ''\n",
    "\n",
    "for word in details['text']:\n",
    "\n",
    "    if word!='':\n",
    "        word_list.append(word)\n",
    "        last_word = word\n",
    "\n",
    "    if (last_word!='' and word == '') or (word==details['text'][-1]):\n",
    "\n",
    "        parse_text.append(word_list)\n",
    "        word_list = []"
   ]
  },
  {
   "cell_type": "code",
   "execution_count": null,
   "id": "fcf7ba43",
   "metadata": {},
   "outputs": [],
   "source": [
    "parse_text2 = []\n",
    "\n",
    "word_list2 = []\n",
    "\n",
    "last_word2 = ''\n",
    "\n",
    "for word in details2['text']:\n",
    "\n",
    "    if word!='':\n",
    "        word_list2.append(word)\n",
    "        last_word2 = word\n",
    "\n",
    "    if (last_word2!='' and word == '') or (word==details2['text'][-1]):\n",
    "\n",
    "        parse_text2.append(word_list2)\n",
    "        word_list2 = []"
   ]
  },
  {
   "cell_type": "code",
   "execution_count": null,
   "id": "b9a12191",
   "metadata": {},
   "outputs": [],
   "source": [
    "parse_text3 = []\n",
    "\n",
    "word_list3 = []\n",
    "\n",
    "last_word3 = ''\n",
    "\n",
    "for word in details3['text']:\n",
    "\n",
    "    if word!='':\n",
    "        word_list3.append(word)\n",
    "        last_word3 = word\n",
    "\n",
    "    if (last_word3!='' and word == '') or (word==details3['text'][-1]):\n",
    "\n",
    "        parse_text3.append(word_list3)\n",
    "        word_list3 = []"
   ]
  },
  {
   "cell_type": "code",
   "execution_count": null,
   "id": "d7efa23d",
   "metadata": {},
   "outputs": [],
   "source": [
    "print(parse_text)\n",
    "print(parse_text2)\n",
    "print(parse_text3)"
   ]
  },
  {
   "cell_type": "code",
   "execution_count": null,
   "id": "cba5e406",
   "metadata": {},
   "outputs": [],
   "source": [
    "import csv\n",
    "\n",
    "with open('1.txt',  'w', newline=\"\") as file:\n",
    "\n",
    "      csv.writer(file, delimiter=\" \").writerows(parse_text)"
   ]
  },
  {
   "cell_type": "code",
   "execution_count": null,
   "id": "1937c5cc",
   "metadata": {},
   "outputs": [],
   "source": [
    "with open('2.txt',  'w', newline=\"\") as file:\n",
    "\n",
    "     csv.writer(file, delimiter=\" \").writerows(parse_text2)"
   ]
  },
  {
   "cell_type": "code",
   "execution_count": null,
   "id": "c41b469f",
   "metadata": {},
   "outputs": [],
   "source": [
    "with open('3.txt',  'w', newline=\"\") as file:\n",
    "\n",
    "     csv.writer(file, delimiter=\" \").writerows(parse_text3)"
   ]
  },
  {
   "cell_type": "code",
   "execution_count": null,
   "id": "fabe3cc9",
   "metadata": {},
   "outputs": [],
   "source": [
    "import os\n",
    "from PIL import Image\n",
    "from pdf2image import convert_from_path\n",
    "import pytesseract"
   ]
  },
  {
   "cell_type": "code",
   "execution_count": null,
   "id": "f6be3f03",
   "metadata": {},
   "outputs": [],
   "source": [
    "import os"
   ]
  },
  {
   "cell_type": "code",
   "execution_count": null,
   "id": "0e2d76b5",
   "metadata": {},
   "outputs": [],
   "source": [
    "import camelot"
   ]
  },
  {
   "cell_type": "code",
   "execution_count": null,
   "id": "e6c490cd",
   "metadata": {},
   "outputs": [],
   "source": [
    "filePath = 'table.pdf'\n",
    "doc = convert_from_path(filePath)\n",
    "path, fileName = os.path.split(filePath)\n",
    "fileBaseName, fileExtension = os.path.splitext(fileName)\n",
    "\n",
    "for page_number, page_data in enumerate(doc):\n",
    "    txt = pytesseract.image_to_string(page_data).encode(\"utf-8\")\n",
    "    print(txt)"
   ]
  },
  {
   "cell_type": "code",
   "execution_count": null,
   "id": "cbfbd5af",
   "metadata": {},
   "outputs": [],
   "source": [
    "\n",
    "from tabula import read_pdf\n",
    "from tabulate import tabulate"
   ]
  },
  {
   "cell_type": "code",
   "execution_count": null,
   "id": "ac4f7eba",
   "metadata": {},
   "outputs": [],
   "source": [
    "\n",
    "# importing required modules\n",
    "from PyPDF2 import PdfReader"
   ]
  },
  {
   "cell_type": "code",
   "execution_count": null,
   "id": "42742a56",
   "metadata": {},
   "outputs": [],
   "source": [
    "# creating a pdf reader object\n",
    "reader = PdfReader('table.pdf')\n",
    "  \n",
    "# printing number of pages in pdf file\n",
    "print(len(reader.pages))\n",
    "  \n",
    "# getting a specific page from the pdf file\n",
    "page = reader.pages[0]\n",
    "  \n",
    "# extracting text from page\n",
    "text = page.extract_text()\n",
    "print(text)"
   ]
  },
  {
   "cell_type": "code",
   "execution_count": null,
   "id": "375bfde0",
   "metadata": {},
   "outputs": [],
   "source": [
    "parse_text4 = []\n",
    "\n",
    "word_list4 = []\n",
    "\n",
    "last_word4 = ''\n",
    "\n",
    "for word in text:\n",
    "\n",
    "    if word!='':\n",
    "        word_list4.append(word)\n",
    "        last_word4 = word\n",
    "\n",
    "    if (last_word4!='' and word == '') or (word==text[-1]):\n",
    "\n",
    "        parse_text4.append(word_list4)\n",
    "        word_list4 = []"
   ]
  },
  {
   "cell_type": "code",
   "execution_count": null,
   "id": "7bc57b14",
   "metadata": {},
   "outputs": [],
   "source": [
    "with open('pdf.txt',  'w') as file:\n",
    "\n",
    "     csv.writer(file).writerows(parse_text4)"
   ]
  },
  {
   "cell_type": "markdown",
   "id": "711c1870",
   "metadata": {},
   "source": [
    "# Conclusion\n"
   ]
  },
  {
   "cell_type": "markdown",
   "id": "46c82e3e",
   "metadata": {},
   "source": [
    "### In conclusion, the image word extraction project utilizing deep learning techniques has shown promising results in automatically extracting meaningful textual information from images. By leveraging convolutional neural networks (CNNs), the project has demonstrated the ability to process images and generate accurate textual representations.Through the use of CNNs, the project extracts relevant features and patterns from the input images, capturing important visual information."
   ]
  }
 ],
 "metadata": {
  "kernelspec": {
   "display_name": "Python 3 (ipykernel)",
   "language": "python",
   "name": "python3"
  },
  "language_info": {
   "codemirror_mode": {
    "name": "ipython",
    "version": 3
   },
   "file_extension": ".py",
   "mimetype": "text/x-python",
   "name": "python",
   "nbconvert_exporter": "python",
   "pygments_lexer": "ipython3",
   "version": "3.10.9"
  }
 },
 "nbformat": 4,
 "nbformat_minor": 5
}
